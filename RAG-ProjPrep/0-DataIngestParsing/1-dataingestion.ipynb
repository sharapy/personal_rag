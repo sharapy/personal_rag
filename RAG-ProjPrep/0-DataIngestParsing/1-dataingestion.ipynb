{
 "cells": [
  {
   "cell_type": "markdown",
   "id": "786fe9ae",
   "metadata": {},
   "source": [
    "### Introductin to Data Ingestion"
   ]
  },
  {
   "cell_type": "code",
   "execution_count": 5,
   "id": "b1efa62c",
   "metadata": {},
   "outputs": [],
   "source": [
    "import os\n",
    "from typing import List, Dict, Any\n",
    "import pandas as pd"
   ]
  },
  {
   "cell_type": "code",
   "execution_count": 17,
   "id": "04b56558",
   "metadata": {},
   "outputs": [
    {
     "name": "stderr",
     "output_type": "stream",
     "text": [
      "/Users/sharad/Documents/Code/project-repos/personal_rag/RAG-ProjPrep/.venv/lib/python3.13/site-packages/tqdm/auto.py:21: TqdmWarning: IProgress not found. Please update jupyter and ipywidgets. See https://ipywidgets.readthedocs.io/en/stable/user_install.html\n",
      "  from .autonotebook import tqdm as notebook_tqdm\n"
     ]
    },
    {
     "name": "stdout",
     "output_type": "stream",
     "text": [
      "Setup Completed!\n"
     ]
    }
   ],
   "source": [
    "from langchain_core.documents import Document\n",
    "from langchain_text_splitters import(\n",
    "    RecursiveCharacterTextSplitter,\n",
    "    CharacterTextSplitter,\n",
    "    TokenTextSplitter\n",
    ")\n",
    "print(\"Setup Completed!\")"
   ]
  },
  {
   "cell_type": "markdown",
   "id": "4c70cdb3",
   "metadata": {},
   "source": [
    "### Undertanding Document Structure in LangChain"
   ]
  },
  {
   "cell_type": "code",
   "execution_count": null,
   "id": "83e4f36d",
   "metadata": {},
   "outputs": [
    {
     "name": "stdout",
     "output_type": "stream",
     "text": [
      "Document Structure\n",
      "Content : This is something that we can find of the Page.\n",
      "Metadata : {'source': 'example.txt', 'page': 1, 'author': 'Krish Naik', 'date_created': '2025-11-20', 'custom_field': 'any_value'}\n"
     ]
    }
   ],
   "source": [
    "# Create a simple document\n",
    "doc=Document(\n",
    "    page_content=\"This is something that we can find of the Page.\",\n",
    "    metadata={\n",
    "        \"source\": \"example.txt\",\n",
    "        \"page\": 1,\n",
    "        \"author\": \"Sharad T\",\n",
    "        \"date_created\": \"2025-11-20\",\n",
    "        \"custom_field\": \"any_value\"\n",
    "    }\n",
    ")\n",
    "print(\"Document Structure\")\n",
    "print(f\"Content : {doc.page_content}\")\n",
    "print(f\"Metadata : {doc.metadata}\")"
   ]
  },
  {
   "cell_type": "markdown",
   "id": "0ad49c2f",
   "metadata": {},
   "source": [
    "### Text files - The Simplest Case(#2 text files)"
   ]
  },
  {
   "cell_type": "code",
   "execution_count": 22,
   "id": "ee888816",
   "metadata": {},
   "outputs": [],
   "source": [
    "import os\n",
    "os.makedirs(\"data/text_files\", exist_ok=True)"
   ]
  },
  {
   "cell_type": "code",
   "execution_count": 24,
   "id": "c56e7764",
   "metadata": {},
   "outputs": [
    {
     "name": "stdout",
     "output_type": "stream",
     "text": [
      "Sample file is created! \n"
     ]
    }
   ],
   "source": [
    "sample_texts = {\n",
    "    \"data/text_files/python_intro.txt\": \"\"\"\"\n",
    "    Python is a high-level, interpreted programming language known for its \n",
    "    simplicity and readability. It supports multiple paradigms like object-oriented and \n",
    "    functional programming. Python is widely used in web development, data analysis, \n",
    "    machine learning, and automation. Its extensive libraries and strong community make \n",
    "    it beginner-friendly and powerful for professionals alike.\n",
    "\n",
    "    Python is a versatile and easy-to-learn programming language used across many fields, \n",
    "    from software development to artificial intelligence. Its clean syntax resembles everyday \n",
    "    English, making coding more intuitive. Python’s vast ecosystem of libraries and frameworks \n",
    "    enables developers to build applications efficiently, \n",
    "    while its open-source nature encourages collaboration and continuous innovation.\n",
    "    \"\"\"\n",
    "\n",
    "}\n",
    "\n",
    "for filepath, content in sample_texts.items():\n",
    "    with open(filepath, 'w', encoding=\"utf-8\") as f:\n",
    "        f.write(content)\n",
    "\n",
    "print(\"Sample file is created! \")"
   ]
  },
  {
   "cell_type": "markdown",
   "id": "da4629f0",
   "metadata": {},
   "source": [
    "### TextLoader - Read Single file"
   ]
  },
  {
   "cell_type": "code",
   "execution_count": 28,
   "id": "54317fca",
   "metadata": {},
   "outputs": [
    {
     "name": "stdout",
     "output_type": "stream",
     "text": [
      "<class 'list'>\n",
      "[Document(metadata={'source': 'data/text_files/python_intro.txt'}, page_content='\"\\n    Python is a high-level, interpreted programming language known for its \\n    simplicity and readability. It supports multiple paradigms like object-oriented and \\n    functional programming. Python is widely used in web development, data analysis, \\n    machine learning, and automation. Its extensive libraries and strong community make \\n    it beginner-friendly and powerful for professionals alike.\\n\\n    Python is a versatile and easy-to-learn programming language used across many fields, \\n    from software development to artificial intelligence. Its clean syntax resembles everyday \\n    English, making coding more intuitive. Python’s vast ecosystem of libraries and frameworks \\n    enables developers to build applications efficiently, \\n    while its open-source nature encourages collaboration and continuous innovation.\\n    ')]\n"
     ]
    }
   ],
   "source": [
    "from langchain_community.document_loaders import TextLoader\n",
    "\n",
    "loader = TextLoader(\"data/text_files/python_intro.txt\", encoding = \"utf-8\")\n",
    "documents = loader.load()\n",
    "print(type(documents))\n",
    "print(documents)"
   ]
  },
  {
   "cell_type": "markdown",
   "id": "a327d1c3",
   "metadata": {},
   "source": [
    "### DirectoryLoader - Read Multiple Files in a Directory"
   ]
  },
  {
   "cell_type": "code",
   "execution_count": 31,
   "id": "f12bab2c",
   "metadata": {},
   "outputs": [
    {
     "name": "stderr",
     "output_type": "stream",
     "text": [
      "100%|██████████| 1/1 [00:00<00:00, 947.87it/s]"
     ]
    },
    {
     "name": "stdout",
     "output_type": "stream",
     "text": [
      "Loaded 1 documents\n",
      "\n",
      "Document 1: \n",
      " Source: data/text_files/python_intro.txt\n",
      " Length: 836 characters\n"
     ]
    },
    {
     "name": "stderr",
     "output_type": "stream",
     "text": [
      "\n"
     ]
    }
   ],
   "source": [
    "from langchain_community.document_loaders import DirectoryLoader\n",
    "\n",
    "dir_loader=DirectoryLoader(\n",
    "    \"data/text_files\",\n",
    "    glob=\"**/*.txt\",\n",
    "    loader_cls = TextLoader,\n",
    "    loader_kwargs = {'encoding': 'utf=8'},\n",
    "    show_progress = True\n",
    ")\n",
    "documents=dir_loader.load()\n",
    "\n",
    "print(f\"Loaded {len(documents)} documents\")\n",
    "for i, doc in enumerate(documents):\n",
    "    print(f\"\\nDocument {i+1}: \")\n",
    "    print(f\" Source: {doc.metadata['source']}\")\n",
    "    print(f\" Length: {len(doc.page_content)} characters\")"
   ]
  },
  {
   "cell_type": "markdown",
   "id": "9f174c80",
   "metadata": {},
   "source": [
    "### Text Splitters in LangChain"
   ]
  },
  {
   "cell_type": "code",
   "execution_count": 32,
   "id": "72ad87c3",
   "metadata": {},
   "outputs": [
    {
     "data": {
      "text/plain": [
       "'\"\\n    Python is a high-level, interpreted programming language known for its \\n    simplicity and readability. It supports multiple paradigms like object-oriented and \\n    functional programming. Python is widely used in web development, data analysis, \\n    machine learning, and automation. Its extensive libraries and strong community make \\n    it beginner-friendly and powerful for professionals alike.\\n\\n    Python is a versatile and easy-to-learn programming language used across many fields, \\n    from software development to artificial intelligence. Its clean syntax resembles everyday \\n    English, making coding more intuitive. Python’s vast ecosystem of libraries and frameworks \\n    enables developers to build applications efficiently, \\n    while its open-source nature encourages collaboration and continuous innovation.\\n    '"
      ]
     },
     "execution_count": 32,
     "metadata": {},
     "output_type": "execute_result"
    }
   ],
   "source": [
    "#### Method 1 - Character text splitter\n",
    "\n",
    "text = documents[0].page_content\n",
    "text"
   ]
  },
  {
   "cell_type": "code",
   "execution_count": 33,
   "id": "1e7c543a",
   "metadata": {},
   "outputs": [
    {
     "name": "stdout",
     "output_type": "stream",
     "text": [
      "Character Text Splitter\n",
      "Created 5 chunks\n",
      "First chunk: \"\n",
      "    Python is a high-level, interpreted programming language known for its \n",
      "    simplicity and rea...\n"
     ]
    }
   ],
   "source": [
    "print(\"Character Text Splitter\")\n",
    "char_splitter = CharacterTextSplitter(\n",
    "    separator = \"\\n\",\n",
    "    chunk_size = 200,\n",
    "    chunk_overlap = 20,\n",
    "    length_function = len\n",
    ")\n",
    "\n",
    "char_chunks = char_splitter.split_text(text)\n",
    "print(f\"Created {len(char_chunks)} chunks\")\n",
    "print(f\"First chunk: {char_chunks[0][:100]}...\")"
   ]
  },
  {
   "cell_type": "code",
   "execution_count": 35,
   "id": "d51249ee",
   "metadata": {},
   "outputs": [
    {
     "name": "stdout",
     "output_type": "stream",
     "text": [
      "\"\n",
      "    Python is a high-level, interpreted programming language known for its \n",
      "    simplicity and readability. It supports multiple paradigms like object-oriented and\n",
      "-----------\n",
      "functional programming. Python is widely used in web development, data analysis, \n",
      "    machine learning, and automation. Its extensive libraries and strong community make\n",
      "-----------\n",
      "it beginner-friendly and powerful for professionals alike.\n",
      "    Python is a versatile and easy-to-learn programming language used across many fields,\n",
      "-----------\n",
      "from software development to artificial intelligence. Its clean syntax resembles everyday \n",
      "    English, making coding more intuitive. Python’s vast ecosystem of libraries and frameworks\n",
      "-----------\n",
      "enables developers to build applications efficiently, \n",
      "    while its open-source nature encourages collaboration and continuous innovation.\n",
      "-----------\n"
     ]
    }
   ],
   "source": [
    "for chunk in char_chunks:\n",
    "    print(chunk)\n",
    "    print(\"-----------\")"
   ]
  },
  {
   "cell_type": "markdown",
   "id": "46504c33",
   "metadata": {},
   "source": [
    "### Recursive Character Text Splitter"
   ]
  },
  {
   "cell_type": "code",
   "execution_count": 37,
   "id": "96d01e4e",
   "metadata": {},
   "outputs": [
    {
     "name": "stdout",
     "output_type": "stream",
     "text": [
      "Recursive Character Text Splitter\n",
      "Created 6 chunks\n",
      "First chunk: \"\n",
      "    Python is a high-level, interpreted programming language known for its \n",
      "    simplicity and rea...\n"
     ]
    }
   ],
   "source": [
    "print(\"Recursive Character Text Splitter\")\n",
    "recursive_splitter = RecursiveCharacterTextSplitter(\n",
    "    separators = [\"\\n\\n\", \"\\n\", \" \", \"\"],\n",
    "    chunk_size = 200,\n",
    "    chunk_overlap = 20,\n",
    "    length_function = len\n",
    ")\n",
    "\n",
    "recursive_chunks = recursive_splitter.split_text(text)\n",
    "print(f\"Created {len(recursive_chunks)} chunks\")\n",
    "print(f\"First chunk: {recursive_chunks[0][:100]}...\")"
   ]
  },
  {
   "cell_type": "code",
   "execution_count": 42,
   "id": "f8525328",
   "metadata": {},
   "outputs": [
    {
     "name": "stdout",
     "output_type": "stream",
     "text": [
      "\"\n",
      "    Python is a high-level, interpreted programming language known for its \n",
      "    simplicity and readability. It supports multiple paradigms like object-oriented and\n",
      "---\n",
      "functional programming. Python is widely used in web development, data analysis, \n",
      "    machine learning, and automation. Its extensive libraries and strong community make\n",
      "---\n",
      "it beginner-friendly and powerful for professionals alike.\n",
      "---\n",
      "Python is a versatile and easy-to-learn programming language used across many fields, \n",
      "    from software development to artificial intelligence. Its clean syntax resembles everyday\n",
      "---\n",
      "English, making coding more intuitive. Python’s vast ecosystem of libraries and frameworks \n",
      "    enables developers to build applications efficiently,\n",
      "---\n",
      "while its open-source nature encourages collaboration and continuous innovation.\n",
      "---\n"
     ]
    },
    {
     "data": {
      "text/plain": [
       "[None, None, None, None, None, None]"
      ]
     },
     "execution_count": 42,
     "metadata": {},
     "output_type": "execute_result"
    }
   ],
   "source": [
    "[print(chunk+\"\\n---\") for chunk in recursive_chunks]"
   ]
  },
  {
   "cell_type": "code",
   "execution_count": 43,
   "id": "391a8c12",
   "metadata": {},
   "outputs": [
    {
     "name": "stdout",
     "output_type": "stream",
     "text": [
      "\n",
      "3️⃣ TOKEN TEXT SPLITTER\n",
      "Created 5 chunks\n",
      "First chunk: \"\n",
      "    Python is a high-level, interpreted programming language known for its \n",
      "    simplicity and rea...\n"
     ]
    }
   ],
   "source": [
    "# Method 3: Token-based splitting\n",
    "print(\"\\n3️⃣ TOKEN TEXT SPLITTER\")\n",
    "token_splitter = TokenTextSplitter(\n",
    "    chunk_size=50,  # Size in tokens (not characters)\n",
    "    chunk_overlap=10\n",
    ")\n",
    "\n",
    "token_chunks = token_splitter.split_text(text)\n",
    "print(f\"Created {len(token_chunks)} chunks\")\n",
    "print(f\"First chunk: {token_chunks[0][:100]}...\")"
   ]
  },
  {
   "cell_type": "code",
   "execution_count": null,
   "id": "1693c13c",
   "metadata": {},
   "outputs": [],
   "source": []
  }
 ],
 "metadata": {
  "kernelspec": {
   "display_name": "Python 3",
   "language": "python",
   "name": "python3"
  },
  "language_info": {
   "codemirror_mode": {
    "name": "ipython",
    "version": 3
   },
   "file_extension": ".py",
   "mimetype": "text/x-python",
   "name": "python",
   "nbconvert_exporter": "python",
   "pygments_lexer": "ipython3",
   "version": "3.13.9"
  }
 },
 "nbformat": 4,
 "nbformat_minor": 5
}
