{
 "cells": [
  {
   "cell_type": "markdown",
   "id": "54b3724e",
   "metadata": {},
   "source": [
    "### Word document processing"
   ]
  },
  {
   "cell_type": "code",
   "execution_count": 1,
   "id": "c98cf19f",
   "metadata": {},
   "outputs": [
    {
     "name": "stderr",
     "output_type": "stream",
     "text": [
      "/Users/sharad/Documents/Code/project-repos/personal_rag/RAG-ProjPrep/.venv/lib/python3.13/site-packages/tqdm/auto.py:21: TqdmWarning: IProgress not found. Please update jupyter and ipywidgets. See https://ipywidgets.readthedocs.io/en/stable/user_install.html\n",
      "  from .autonotebook import tqdm as notebook_tqdm\n"
     ]
    }
   ],
   "source": [
    "from langchain_community.document_loaders import Docx2txtLoader,UnstructuredWordDocumentLoader"
   ]
  },
  {
   "cell_type": "code",
   "execution_count": 2,
   "id": "fe0a17f6",
   "metadata": {},
   "outputs": [
    {
     "name": "stdout",
     "output_type": "stream",
     "text": [
      "1️⃣ Using Docx2txtLoader\n",
      "✅ Loaded 1 document(s)\n",
      "Content preview: Project Proposal – Personal Document RAG System with Advanced Chunking and Indexing\n",
      "\n",
      "\n",
      "\n",
      "Name: Sharad Talekar\n",
      "StudentID: 23881300\n",
      "Course: INFO556 – Text Retrieval and Web Search\n",
      "\n",
      "Purpose\n",
      "\n",
      "Traditional se...\n",
      "Metadata: {'source': 'data/word_files/INFO556-Proposal.docx'}\n"
     ]
    }
   ],
   "source": [
    "## MEthod1: Using Docx2txtLoader\n",
    "print(\"1️⃣ Using Docx2txtLoader\")\n",
    "try:\n",
    "    docx_loader=Docx2txtLoader(\"data/word_files/INFO556-Proposal.docx\")\n",
    "    docs=docx_loader.load()\n",
    "    print(f\"✅ Loaded {len(docs)} document(s)\")\n",
    "    print(f\"Content preview: {docs[0].page_content[:200]}...\")\n",
    "    print(f\"Metadata: {docs[0].metadata}\")\n",
    "\n",
    "except Exception as e:\n",
    "    print(f\"Error: {e}\")"
   ]
  },
  {
   "cell_type": "code",
   "execution_count": 4,
   "id": "f4864b16",
   "metadata": {},
   "outputs": [
    {
     "name": "stdout",
     "output_type": "stream",
     "text": [
      "\n",
      "2️⃣ Using UnstructuredWordDocumentLoader\n",
      "✅ Loaded 60 elements\n",
      "\n",
      "Element 1:\n",
      "Type: Title\n",
      "Content: Project Proposal – Personal Document RAG System with Advanced Chunking and Indexing...\n",
      "\n",
      "Element 2:\n",
      "Type: Title\n",
      "Content: Name: Sharad Talekar\n",
      "StudentID: 23881300\n",
      "Course: INFO556 – Text Retrieval and Web Search...\n",
      "\n",
      "Element 3:\n",
      "Type: Title\n",
      "Content: Purpose...\n"
     ]
    }
   ],
   "source": [
    "## MEthod2\n",
    "print(\"\\n2️⃣ Using UnstructuredWordDocumentLoader\")\n",
    "\n",
    "try:\n",
    "    unstructured_loader=UnstructuredWordDocumentLoader(\"data/word_files/INFO556-Proposal.docx\",mode=\"elements\")\n",
    "    unstructured_docs=unstructured_loader.load()\n",
    "    \n",
    "    print(f\"✅ Loaded {len(unstructured_docs)} elements\")\n",
    "    for i, doc in enumerate(unstructured_docs[:3]):\n",
    "        print(f\"\\nElement {i+1}:\")\n",
    "        print(f\"Type: {doc.metadata.get('category', 'unknown')}\")\n",
    "        print(f\"Content: {doc.page_content[:100]}...\")\n",
    "\n",
    "\n",
    "except Exception as e:\n",
    "    print(e) "
   ]
  },
  {
   "cell_type": "code",
   "execution_count": null,
   "id": "cb7c8d46",
   "metadata": {},
   "outputs": [],
   "source": []
  }
 ],
 "metadata": {
  "kernelspec": {
   "display_name": "Python 3",
   "language": "python",
   "name": "python3"
  },
  "language_info": {
   "codemirror_mode": {
    "name": "ipython",
    "version": 3
   },
   "file_extension": ".py",
   "mimetype": "text/x-python",
   "name": "python",
   "nbconvert_exporter": "python",
   "pygments_lexer": "ipython3",
   "version": "3.13.9"
  }
 },
 "nbformat": 4,
 "nbformat_minor": 5
}
